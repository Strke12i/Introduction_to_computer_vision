{
 "cells": [
  {
   "cell_type": "code",
   "execution_count": 5,
   "id": "4c7d6af6",
   "metadata": {},
   "outputs": [
    {
     "name": "stdout",
     "output_type": "stream",
     "text": [
      "---------Final Results----------\n",
      "Learned weights:  [0.83061872 0.88061872]\n",
      "Sample  1 . Expected =  10  ,Predicted =  9.636805873776346\n",
      "Sample  2 . Expected =  240  ,Predicted =  212.17911050728176\n",
      "Sample  3 . Expected =  250  ,Predicted =  250\n",
      "Sample  4 . Expected =  -160  ,Predicted =  -140.06837581185812\n"
     ]
    }
   ],
   "source": [
    "import numpy\n",
    "\n",
    "def activation_function(input):\n",
    "    if input>250:\n",
    "        return 250\n",
    "    else:\n",
    "        return input\n",
    "    \n",
    "def prediction_error(desired,expected):\n",
    "    return numpy.abs(numpy.mean(desired-expected))\n",
    "\n",
    "def update_weights(weights,predicted,idx):\n",
    "    weights=weights+ .00001*(desired_output[idx] - predicted)*inputs[idx]\n",
    "    return weights\n",
    "\n",
    "weights = numpy.array([0.05, .1]) \n",
    "inputs = numpy.array([60, 40, 100, 300, -50, 310])\n",
    "desired_output = numpy.array([60, 40, 150, 250, -50, 250])\n",
    "\n",
    "def training_loop(inpupt,weights):\n",
    "    error=1\n",
    "    iteration=0\n",
    "    idx=0\n",
    "    while(iteration>=2000 or error>=0.01):\n",
    "        predicted=activation_function(weights[0]*1+weights[1]*inputs[idx])\n",
    "        error=prediction_error(desired_output[idx],predicted)\n",
    "        weights=update_weights(weights,predicted,idx)\n",
    "        idx+=1\n",
    "        idx=idx%inputs.shape[0]\n",
    "        iteration+=1\n",
    "        \n",
    "    return error,weights\n",
    "        \n",
    "error,new_weights=training_loop(inputs,weights) \n",
    "print('---------Final Results----------')\n",
    "print('Learned weights: ', new_weights)\n",
    "new_inputs = numpy.array([10, 240, 550, -160])\n",
    "new_outputs = numpy.array([10, 240, 250, -160])\n",
    "\n",
    "for i in range(new_inputs.shape[0]):\n",
    "    print('Sample ', i+1, '. Expected = ', new_outputs[i], ' ,Predicted = ', activation_function(new_weights[0]*1+new_weights[1]*new_inputs[i]))"
   ]
  },
  {
   "cell_type": "code",
   "execution_count": null,
   "id": "3f1d376f",
   "metadata": {},
   "outputs": [],
   "source": []
  }
 ],
 "metadata": {
  "kernelspec": {
   "display_name": "Python 3",
   "language": "python",
   "name": "python3"
  },
  "language_info": {
   "codemirror_mode": {
    "name": "ipython",
    "version": 3
   },
   "file_extension": ".py",
   "mimetype": "text/x-python",
   "name": "python",
   "nbconvert_exporter": "python",
   "pygments_lexer": "ipython3",
   "version": "3.8.10"
  }
 },
 "nbformat": 4,
 "nbformat_minor": 5
}
