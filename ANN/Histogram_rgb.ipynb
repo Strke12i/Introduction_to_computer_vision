{
 "cells": [
  {
   "cell_type": "code",
   "execution_count": 1,
   "id": "808ae6de",
   "metadata": {},
   "outputs": [],
   "source": [
    "import numpy\n",
    "import skimage.io\n",
    "import matplotlib.pyplot"
   ]
  },
  {
   "cell_type": "code",
   "execution_count": 7,
   "id": "14c2d473",
   "metadata": {},
   "outputs": [],
   "source": [
    "raspberry = skimage.io.imread(fname=\"images/Raspberry.jpg\",)\n",
    "mango = skimage.io.imread(fname=\"images/Mango.jpg\")\n",
    "\n",
    "fruits_data=[raspberry,mango]\n",
    "fruits=[\"raspberry\",\"mango\"]\n",
    "idx=0\n",
    "\n",
    "for fruit_data in fruits_data:\n",
    "    fruit=fruits[idx]\n",
    "    \n",
    "    for ch_num in range(3):\n",
    "        hist=numpy.histogram(a=fruit_data[:,:,ch_num], bins=256)\n",
    "        matplotlib.pyplot.bar(x=numpy.arange(256),height=hist[0])\n",
    "        matplotlib.pyplot.savefig(\"histogram/\"+fruit+\"-histogram-channel-\"+str(ch_num)+\".jpg\", bbox_inches=\"tight\")\n",
    "        matplotlib.pyplot.close(\"all\")\n",
    "    idx+=1"
   ]
  }
 ],
 "metadata": {
  "kernelspec": {
   "display_name": "Python 3",
   "language": "python",
   "name": "python3"
  },
  "language_info": {
   "codemirror_mode": {
    "name": "ipython",
    "version": 3
   },
   "file_extension": ".py",
   "mimetype": "text/x-python",
   "name": "python",
   "nbconvert_exporter": "python",
   "pygments_lexer": "ipython3",
   "version": "3.8.10"
  }
 },
 "nbformat": 4,
 "nbformat_minor": 5
}
